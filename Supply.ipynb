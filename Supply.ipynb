{
 "cells": [
  {
   "cell_type": "code",
   "execution_count": 2,
   "metadata": {},
   "outputs": [],
   "source": [
    "import pandas as pd\n",
    "import numpy as np\n",
    "import matplotlib.pyplot as plt\n",
    "import seaborn as sns"
   ]
  },
  {
   "cell_type": "code",
   "execution_count": 3,
   "metadata": {},
   "outputs": [],
   "source": [
    "from sklearn.ensemble import RandomForestRegressor\n",
    "from sklearn.cluster import KMeans\n",
    "from sklearn.model_selection import train_test_split\n",
    "from sklearn.metrics import mean_squared_error, r2_score\n",
    "from sklearn.preprocessing import LabelEncoder"
   ]
  },
  {
   "cell_type": "code",
   "execution_count": 4,
   "metadata": {},
   "outputs": [],
   "source": [
    "df = pd.read_csv(\"/Users/deepthiramesh/Documents/Extra Projects/Supply chain delay analysis/Dataset/dynamic_supply_chain_logistics_dataset_with_country.csv\")"
   ]
  },
  {
   "cell_type": "code",
   "execution_count": 5,
   "metadata": {},
   "outputs": [],
   "source": [
    "# Step 3: Data Cleaning & Parsing with synthetic delivery dates\n",
    "num_rows = len(df)\n",
    "base_dates = pd.date_range(start='2011-01-01', periods=1825, freq='D')\n",
    "repeated_dates = np.tile(base_dates, int(np.ceil(num_rows / len(base_dates))))[:num_rows]\n",
    "\n",
    "df['Scheduled Delivery Date'] = repeated_dates\n",
    "df['Delivered to Client Date'] = df['Scheduled Delivery Date'] + pd.to_timedelta(df['delivery_time_deviation'].fillna(0), unit='D')\n",
    "df['delay_days'] = (df['Delivered to Client Date'] - df['Scheduled Delivery Date']).dt.days\n",
    "df = df[df['delay_days'].notnull()]"
   ]
  },
  {
   "cell_type": "code",
   "execution_count": 6,
   "metadata": {},
   "outputs": [],
   "source": [
    "# Step 4: Delay Analysis\n",
    "df['Route'] = df['supplier_country'] + \" → Destination\"\n",
    "df['Delivery Hour'] = df['Delivered to Client Date'].dt.hour\n",
    "df['Delivery Day'] = df['Delivered to Client Date'].dt.day_name()"
   ]
  },
  {
   "cell_type": "code",
   "execution_count": 7,
   "metadata": {},
   "outputs": [],
   "source": [
    "# Step 5: Delay Summary\n",
    "delay_summary = df.groupby('Route')['delay_days'].agg(['mean', 'std', 'count']).reset_index()\n",
    "carrier_delay = df.groupby('supplier_id')['delay_days'].mean().sort_values(ascending=False)"
   ]
  },
  {
   "cell_type": "code",
   "execution_count": 9,
   "metadata": {},
   "outputs": [
    {
     "name": "stdout",
     "output_type": "stream",
     "text": [
      "R² Score: 0.8662386852346627\n",
      "RMSE: 1.4885299086441581\n"
     ]
    }
   ],
   "source": [
    "# Step 6: Modeling (Random Forest)\n",
    "model_df = df[['delay_days', 'risk_classification', 'supplier_id', 'product_id', 'historical_demand']].dropna()\n",
    "le = LabelEncoder()\n",
    "for col in ['risk_classification', 'supplier_id', 'product_id']:\n",
    "    model_df[col] = le.fit_transform(model_df[col])\n",
    "\n",
    "X = model_df.drop('delay_days', axis=1)\n",
    "y = model_df['delay_days']\n",
    "X_train, X_test, y_train, y_test = train_test_split(X, y, test_size=0.2)\n",
    "\n",
    "rf = RandomForestRegressor(n_estimators=30, random_state=42)\n",
    "rf.fit(X_train, y_train)\n",
    "y_pred = rf.predict(X_test)\n",
    "\n",
    "print(\"R² Score:\", r2_score(y_test, y_pred))\n",
    "print(\"RMSE:\", np.sqrt(mean_squared_error(y_test, y_pred)))"
   ]
  },
  {
   "cell_type": "code",
   "execution_count": null,
   "metadata": {},
   "outputs": [],
   "source": []
  }
 ],
 "metadata": {
  "kernelspec": {
   "display_name": "Python 3",
   "language": "python",
   "name": "python3"
  },
  "language_info": {
   "codemirror_mode": {
    "name": "ipython",
    "version": 3
   },
   "file_extension": ".py",
   "mimetype": "text/x-python",
   "name": "python",
   "nbconvert_exporter": "python",
   "pygments_lexer": "ipython3",
   "version": "3.13.4"
  }
 },
 "nbformat": 4,
 "nbformat_minor": 2
}
